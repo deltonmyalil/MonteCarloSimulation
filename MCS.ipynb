{
 "cells": [
  {
   "cell_type": "markdown",
   "metadata": {},
   "source": [
    "# Monte Carlo Simulation"
   ]
  },
  {
   "cell_type": "code",
   "execution_count": 1,
   "metadata": {},
   "outputs": [],
   "source": [
    "import numpy as np\n",
    "import pandas as pd"
   ]
  },
  {
   "cell_type": "code",
   "execution_count": 2,
   "metadata": {},
   "outputs": [],
   "source": [
    "# Reading the probability distribution table\n",
    "probability_table = pd.read_csv('probability_values.csv')"
   ]
  },
  {
   "cell_type": "code",
   "execution_count": 3,
   "metadata": {},
   "outputs": [],
   "source": [
    "# Splitting the Probability Values and the Outcome Values\n",
    "prob_col = probability_table.iloc[:,0]\n",
    "outcome_col = probability_table.iloc[:,1]"
   ]
  },
  {
   "cell_type": "code",
   "execution_count": 4,
   "metadata": {},
   "outputs": [],
   "source": [
    "# Function to Accumulate the Probabilities\n",
    "def cumulate_probability(prob_col):\n",
    "    cum_prob = np.array([])\n",
    "    cum_prob = np.append(cum_prob, prob_col[0])\n",
    "    for i in range(1,len(prob_col)):\n",
    "        cum_prob = np.append(cum_prob, cum_prob[i-1]+prob_col[i])\n",
    "    cum_prob[len(cum_prob)-1] = 1.0\n",
    "    return cum_prob"
   ]
  },
  {
   "cell_type": "code",
   "execution_count": 5,
   "metadata": {},
   "outputs": [],
   "source": [
    "# Function to Perform MCS\n",
    "# prob_col is the vector of probabilities\n",
    "# outcome_col is the vector of outcome values\n",
    "# n_trials is the number of iterations to simulate\n",
    "# random_distribution is the distribution to generate random numbers with values (0,1) either one of -\n",
    "#     'uniform'\n",
    "#     'normal'\n",
    "# returns the dataframe of simulation result with columns 'generated_number', 'resultant_number'\n",
    "def monte_carlo_simulation(prob_col, outcome_col, n_trials = 100, random_distribution='uniform'):\n",
    "    cumulative_prob = cumulate_probability(prob_col=prob_col)\n",
    "    random_numbers = np.random.uniform(low=0.0, high=1.0, size=[n_trials])\n",
    "    resultant_outcome = []\n",
    "    n = len(prob_col)\n",
    "    for rand in random_numbers:\n",
    "        index = 0\n",
    "        for i in range(n):\n",
    "            if rand < cumulative_prob[i]:\n",
    "                index = i\n",
    "                break\n",
    "        resultant_outcome.append(outcome_col[index])\n",
    "    return_df = pd.DataFrame(columns=['generated_number','resultant_number'])\n",
    "    return_df['generated_number'] = random_numbers\n",
    "    return_df['resultant_number'] = resultant_outcome\n",
    "    return return_df"
   ]
  },
  {
   "cell_type": "code",
   "execution_count": 6,
   "metadata": {},
   "outputs": [],
   "source": [
    "df = monte_carlo_simulation(prob_col, outcome_col)"
   ]
  },
  {
   "cell_type": "code",
   "execution_count": 9,
   "metadata": {},
   "outputs": [
    {
     "name": "stdout",
     "output_type": "stream",
     "text": [
      "Expected outcome is  34.35\n"
     ]
    }
   ],
   "source": [
    "print(\"Expected outcome is \", df['resultant_number'].mean())"
   ]
  },
  {
   "cell_type": "code",
   "execution_count": 11,
   "metadata": {},
   "outputs": [
    {
     "data": {
      "text/html": [
       "<div>\n",
       "<style scoped>\n",
       "    .dataframe tbody tr th:only-of-type {\n",
       "        vertical-align: middle;\n",
       "    }\n",
       "\n",
       "    .dataframe tbody tr th {\n",
       "        vertical-align: top;\n",
       "    }\n",
       "\n",
       "    .dataframe thead th {\n",
       "        text-align: right;\n",
       "    }\n",
       "</style>\n",
       "<table border=\"1\" class=\"dataframe\">\n",
       "  <thead>\n",
       "    <tr style=\"text-align: right;\">\n",
       "      <th></th>\n",
       "      <th>generated_number</th>\n",
       "      <th>resultant_number</th>\n",
       "    </tr>\n",
       "  </thead>\n",
       "  <tbody>\n",
       "    <tr>\n",
       "      <th>0</th>\n",
       "      <td>0.468903</td>\n",
       "      <td>40</td>\n",
       "    </tr>\n",
       "    <tr>\n",
       "      <th>1</th>\n",
       "      <td>0.685670</td>\n",
       "      <td>40</td>\n",
       "    </tr>\n",
       "    <tr>\n",
       "      <th>2</th>\n",
       "      <td>0.619621</td>\n",
       "      <td>40</td>\n",
       "    </tr>\n",
       "    <tr>\n",
       "      <th>3</th>\n",
       "      <td>0.650940</td>\n",
       "      <td>40</td>\n",
       "    </tr>\n",
       "    <tr>\n",
       "      <th>4</th>\n",
       "      <td>0.360077</td>\n",
       "      <td>40</td>\n",
       "    </tr>\n",
       "  </tbody>\n",
       "</table>\n",
       "</div>"
      ],
      "text/plain": [
       "   generated_number  resultant_number\n",
       "0          0.468903                40\n",
       "1          0.685670                40\n",
       "2          0.619621                40\n",
       "3          0.650940                40\n",
       "4          0.360077                40"
      ]
     },
     "execution_count": 11,
     "metadata": {},
     "output_type": "execute_result"
    }
   ],
   "source": [
    "df.head()"
   ]
  }
 ],
 "metadata": {
  "kernelspec": {
   "display_name": "Python 3",
   "language": "python",
   "name": "python3"
  },
  "language_info": {
   "codemirror_mode": {
    "name": "ipython",
    "version": 3
   },
   "file_extension": ".py",
   "mimetype": "text/x-python",
   "name": "python",
   "nbconvert_exporter": "python",
   "pygments_lexer": "ipython3",
   "version": "3.7.1"
  }
 },
 "nbformat": 4,
 "nbformat_minor": 2
}
